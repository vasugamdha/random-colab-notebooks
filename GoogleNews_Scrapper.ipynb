{
  "nbformat": 4,
  "nbformat_minor": 0,
  "metadata": {
    "colab": {
      "name": "GoogleNews Scrapper.ipynb",
      "provenance": [],
      "collapsed_sections": [],
      "authorship_tag": "ABX9TyMYzYfsQF9dRsBaYoUPai3u",
      "include_colab_link": true
    },
    "kernelspec": {
      "name": "python3",
      "display_name": "Python 3"
    }
  },
  "cells": [
    {
      "cell_type": "markdown",
      "metadata": {
        "id": "view-in-github",
        "colab_type": "text"
      },
      "source": [
        "<a href=\"https://colab.research.google.com/github/vasugamdha/random-colab-notebooks/blob/main/GoogleNews_Scrapper.ipynb\" target=\"_parent\"><img src=\"https://colab.research.google.com/assets/colab-badge.svg\" alt=\"Open In Colab\"/></a>"
      ]
    },
    {
      "cell_type": "code",
      "metadata": {
        "id": "8-Ey6GVNylXC"
      },
      "source": [
        "!pip install GoogleNews\r\n",
        "!pip install newspaper3k"
      ],
      "execution_count": null,
      "outputs": []
    },
    {
      "cell_type": "code",
      "metadata": {
        "id": "ZTJxtRuAydDt"
      },
      "source": [
        "from GoogleNews import GoogleNews\r\n",
        "import pandas as pd"
      ],
      "execution_count": 2,
      "outputs": []
    },
    {
      "cell_type": "code",
      "metadata": {
        "id": "m20W6CGCE1lr"
      },
      "source": [
        "'''Config will allow us to access the specified url for which we are not authorized.  \n",
        "So, sometimes we may get 403 client error while parsing the link to download the article.'''\n",
        "\n",
        "from newspaper import Config\n",
        "user_agent = 'Chrome/50.0.2661.102'\n",
        "config = Config()\n",
        "config.browser_user_agent = user_agent\n"
      ],
      "execution_count": 20,
      "outputs": []
    },
    {
      "cell_type": "code",
      "metadata": {
        "colab": {
          "base_uri": "https://localhost:8080/",
          "height": 289
        },
        "id": "bO1-qZjsyfMi",
        "cellView": "form",
        "outputId": "bf04e4a1-e246-42fe-c145-8f7dfad99fa4"
      },
      "source": [
        "#@title Extracting results from GoogleNews\n",
        "googlenews=GoogleNews(start='11/01/2020',end='12/31/2020')  # mm/dd/yyyy\n",
        "googlenews.search('Elon Musk')\n",
        "n=5 # number of pages \n",
        "for i in range(2,n):\n",
        "    googlenews.get_page(i)\n",
        "    result=googlenews.results(sort=True)\n",
        "    df=pd.DataFrame(result)\n",
        "df.head()"
      ],
      "execution_count": 37,
      "outputs": [
        {
          "output_type": "execute_result",
          "data": {
            "text/html": [
              "<div>\n",
              "<style scoped>\n",
              "    .dataframe tbody tr th:only-of-type {\n",
              "        vertical-align: middle;\n",
              "    }\n",
              "\n",
              "    .dataframe tbody tr th {\n",
              "        vertical-align: top;\n",
              "    }\n",
              "\n",
              "    .dataframe thead th {\n",
              "        text-align: right;\n",
              "    }\n",
              "</style>\n",
              "<table border=\"1\" class=\"dataframe\">\n",
              "  <thead>\n",
              "    <tr style=\"text-align: right;\">\n",
              "      <th></th>\n",
              "      <th>title</th>\n",
              "      <th>media</th>\n",
              "      <th>date</th>\n",
              "      <th>datetime</th>\n",
              "      <th>desc</th>\n",
              "      <th>link</th>\n",
              "      <th>img</th>\n",
              "    </tr>\n",
              "  </thead>\n",
              "  <tbody>\n",
              "    <tr>\n",
              "      <th>0</th>\n",
              "      <td>Twitter debates with Elon Musk, death threats ...</td>\n",
              "      <td>masslive.com</td>\n",
              "      <td>Dec 31, 2020</td>\n",
              "      <td>2020-12-31</td>\n",
              "      <td>Twitter debates with Elon Musk, death threats ...</td>\n",
              "      <td>https://www.masslive.com/coronavirus/2020/12/t...</td>\n",
              "      <td>data:image/gif;base64,R0lGODlhAQABAIAAAP//////...</td>\n",
              "    </tr>\n",
              "    <tr>\n",
              "      <th>1</th>\n",
              "      <td>Elon Musk says SpaceX will attempt to recover ...</td>\n",
              "      <td>TechCrunch</td>\n",
              "      <td>Dec 30, 2020</td>\n",
              "      <td>2020-12-30</td>\n",
              "      <td>SpaceX will try a significantly different appr...</td>\n",
              "      <td>https://techcrunch.com/2020/12/30/elon-musk-sa...</td>\n",
              "      <td>data:image/gif;base64,R0lGODlhAQABAIAAAP//////...</td>\n",
              "    </tr>\n",
              "    <tr>\n",
              "      <th>2</th>\n",
              "      <td>Elon Musk: Teslas delivered in final days of 2...</td>\n",
              "      <td>Business Insider</td>\n",
              "      <td>Dec 29, 2020</td>\n",
              "      <td>2020-12-29</td>\n",
              "      <td>Elon Musk said in a tweet Tuesday that Tesla v...</td>\n",
              "      <td>https://www.businessinsider.com/elon-musk-tesl...</td>\n",
              "      <td>data:image/gif;base64,R0lGODlhAQABAIAAAP//////...</td>\n",
              "    </tr>\n",
              "    <tr>\n",
              "      <th>3</th>\n",
              "      <td>Tesla Stock Jumps After Elon Musk Says It’s ‘I...</td>\n",
              "      <td>Barron's</td>\n",
              "      <td>Dec 28, 2020</td>\n",
              "      <td>2020-12-28</td>\n",
              "      <td>No matter what happens in 2021, one sure thing...</td>\n",
              "      <td>https://www.barrons.com/articles/tesla-stock-j...</td>\n",
              "      <td>data:image/gif;base64,R0lGODlhAQABAIAAAP//////...</td>\n",
              "    </tr>\n",
              "    <tr>\n",
              "      <th>4</th>\n",
              "      <td>Elon Musk says it's now 'impossible' to take T...</td>\n",
              "      <td>Business Insider</td>\n",
              "      <td>Dec 26, 2020</td>\n",
              "      <td>2020-12-26</td>\n",
              "      <td>The term \"going private\" refers to converting ...</td>\n",
              "      <td>https://www.businessinsider.com/elon-musk-tesl...</td>\n",
              "      <td>data:image/gif;base64,R0lGODlhAQABAIAAAP//////...</td>\n",
              "    </tr>\n",
              "  </tbody>\n",
              "</table>\n",
              "</div>"
            ],
            "text/plain": [
              "                                               title  ...                                                img\n",
              "0  Twitter debates with Elon Musk, death threats ...  ...  data:image/gif;base64,R0lGODlhAQABAIAAAP//////...\n",
              "1  Elon Musk says SpaceX will attempt to recover ...  ...  data:image/gif;base64,R0lGODlhAQABAIAAAP//////...\n",
              "2  Elon Musk: Teslas delivered in final days of 2...  ...  data:image/gif;base64,R0lGODlhAQABAIAAAP//////...\n",
              "3  Tesla Stock Jumps After Elon Musk Says It’s ‘I...  ...  data:image/gif;base64,R0lGODlhAQABAIAAAP//////...\n",
              "4  Elon Musk says it's now 'impossible' to take T...  ...  data:image/gif;base64,R0lGODlhAQABAIAAAP//////...\n",
              "\n",
              "[5 rows x 7 columns]"
            ]
          },
          "metadata": {
            "tags": []
          },
          "execution_count": 37
        }
      ]
    },
    {
      "cell_type": "code",
      "metadata": {
        "colab": {
          "base_uri": "https://localhost:8080/",
          "height": 323
        },
        "id": "h4XqlIR91LiZ",
        "cellView": "form",
        "outputId": "819023c6-e640-4cc9-ac7c-d1d3c903e024"
      },
      "source": [
        "#@title For extracting full articles from links\n",
        "from newspaper import Article\n",
        "# from pprint import pprint\n",
        "import nltk\n",
        "\n",
        "nltk.download('punkt')\n",
        "news=[]\n",
        "for ind in df.index:\n",
        "    dict={}\n",
        "    try:\n",
        "        article = Article(df['link'][ind],config=config)\n",
        "        article.download()\n",
        "        article.parse()\n",
        "        article.nlp()\n",
        "    except:\n",
        "        print(ind,\"Failed\",df['link'][ind])\n",
        "        continue\n",
        "    dict['Date']=df['date'][ind]\n",
        "    dict['Media']=df['media'][ind]\n",
        "    dict['Title']=article.title\n",
        "    dict['Link']=df['link'][ind]\n",
        "    dict['Article']=article.text\n",
        "    dict['Summary']=article.summary\n",
        "\n",
        "    news.append(dict)\n",
        "# pprint(news[0])\n",
        "dfn=pd.DataFrame(news)\n",
        "dfn.to_csv(\"articles.csv\")\n",
        "dfn.head()"
      ],
      "execution_count": 42,
      "outputs": [
        {
          "output_type": "stream",
          "text": [
            "[nltk_data] Downloading package punkt to /root/nltk_data...\n",
            "[nltk_data]   Package punkt is already up-to-date!\n"
          ],
          "name": "stdout"
        },
        {
          "output_type": "execute_result",
          "data": {
            "text/html": [
              "<div>\n",
              "<style scoped>\n",
              "    .dataframe tbody tr th:only-of-type {\n",
              "        vertical-align: middle;\n",
              "    }\n",
              "\n",
              "    .dataframe tbody tr th {\n",
              "        vertical-align: top;\n",
              "    }\n",
              "\n",
              "    .dataframe thead th {\n",
              "        text-align: right;\n",
              "    }\n",
              "</style>\n",
              "<table border=\"1\" class=\"dataframe\">\n",
              "  <thead>\n",
              "    <tr style=\"text-align: right;\">\n",
              "      <th></th>\n",
              "      <th>Date</th>\n",
              "      <th>Media</th>\n",
              "      <th>Title</th>\n",
              "      <th>Link</th>\n",
              "      <th>Article</th>\n",
              "      <th>Summary</th>\n",
              "    </tr>\n",
              "  </thead>\n",
              "  <tbody>\n",
              "    <tr>\n",
              "      <th>0</th>\n",
              "      <td>Dec 31, 2020</td>\n",
              "      <td>masslive.com</td>\n",
              "      <td>Twitter debates with Elon Musk, death threats ...</td>\n",
              "      <td>https://www.masslive.com/coronavirus/2020/12/t...</td>\n",
              "      <td>Dr. Ashish Jha started 2020 thousands of miles...</td>\n",
              "      <td>Dr. Ashish Jha started 2020 thousands of miles...</td>\n",
              "    </tr>\n",
              "    <tr>\n",
              "      <th>1</th>\n",
              "      <td>Dec 30, 2020</td>\n",
              "      <td>TechCrunch</td>\n",
              "      <td>Elon Musk says SpaceX will attempt to recover ...</td>\n",
              "      <td>https://techcrunch.com/2020/12/30/elon-musk-sa...</td>\n",
              "      <td>SpaceX will try a significantly different appr...</td>\n",
              "      <td>SpaceX will try a significantly different appr...</td>\n",
              "    </tr>\n",
              "    <tr>\n",
              "      <th>2</th>\n",
              "      <td>Dec 29, 2020</td>\n",
              "      <td>Business Insider</td>\n",
              "      <td>Elon Musk promises 3 free months of Tesla's 's...</td>\n",
              "      <td>https://www.businessinsider.com/elon-musk-tesl...</td>\n",
              "      <td>Newly minted Tesla owners who receive their ve...</td>\n",
              "      <td>Newly minted Tesla owners who receive their ve...</td>\n",
              "    </tr>\n",
              "    <tr>\n",
              "      <th>3</th>\n",
              "      <td>Dec 28, 2020</td>\n",
              "      <td>Barron's</td>\n",
              "      <td>Tesla Stock Jumps After Elon Musk Says It’s ‘I...</td>\n",
              "      <td>https://www.barrons.com/articles/tesla-stock-j...</td>\n",
              "      <td>Text size\\n\\nTesla has been on a wild run this...</td>\n",
              "      <td>No matter what happens in 2021, one sure thing...</td>\n",
              "    </tr>\n",
              "    <tr>\n",
              "      <th>4</th>\n",
              "      <td>Dec 26, 2020</td>\n",
              "      <td>Business Insider</td>\n",
              "      <td>Elon Musk says it's now 'impossible' to take T...</td>\n",
              "      <td>https://www.businessinsider.com/elon-musk-tesl...</td>\n",
              "      <td>Elon Musk said Friday that it's now \"impossibl...</td>\n",
              "      <td>Elon Musk said Friday that it's now \"impossibl...</td>\n",
              "    </tr>\n",
              "  </tbody>\n",
              "</table>\n",
              "</div>"
            ],
            "text/plain": [
              "           Date  ...                                            Summary\n",
              "0  Dec 31, 2020  ...  Dr. Ashish Jha started 2020 thousands of miles...\n",
              "1  Dec 30, 2020  ...  SpaceX will try a significantly different appr...\n",
              "2  Dec 29, 2020  ...  Newly minted Tesla owners who receive their ve...\n",
              "3  Dec 28, 2020  ...  No matter what happens in 2021, one sure thing...\n",
              "4  Dec 26, 2020  ...  Elon Musk said Friday that it's now \"impossibl...\n",
              "\n",
              "[5 rows x 6 columns]"
            ]
          },
          "metadata": {
            "tags": []
          },
          "execution_count": 42
        }
      ]
    },
    {
      "cell_type": "code",
      "metadata": {
        "id": "SsVRjQxAIqTQ",
        "colab": {
          "base_uri": "https://localhost:8080/",
          "height": 35
        },
        "outputId": "b3a804e7-c407-4b32-d9b2-359a49c2afc8"
      },
      "source": [
        "'''Reference: https://medium.com/analytics-vidhya/googlenews-api-live-news-from-google-news-using-python-b50272f0a8f0'''"
      ],
      "execution_count": 25,
      "outputs": [
        {
          "output_type": "execute_result",
          "data": {
            "application/vnd.google.colaboratory.intrinsic+json": {
              "type": "string"
            },
            "text/plain": [
              "'Reference: https://medium.com/analytics-vidhya/googlenews-api-live-news-from-google-news-using-python-b50272f0a8f0'"
            ]
          },
          "metadata": {
            "tags": []
          },
          "execution_count": 25
        }
      ]
    }
  ]
}