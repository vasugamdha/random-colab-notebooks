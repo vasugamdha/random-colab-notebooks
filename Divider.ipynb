{
  "nbformat": 4,
  "nbformat_minor": 0,
  "metadata": {
    "colab": {
      "name": "Divider.ipynb",
      "provenance": [],
      "authorship_tag": "ABX9TyOgAMA+kzOucdPJN/8D/UPH",
      "include_colab_link": true
    },
    "kernelspec": {
      "name": "python3",
      "display_name": "Python 3"
    }
  },
  "cells": [
    {
      "cell_type": "markdown",
      "metadata": {
        "id": "view-in-github",
        "colab_type": "text"
      },
      "source": [
        "<a href=\"https://colab.research.google.com/github/vasugamdha/random-colab-notebooks/blob/main/Divider.ipynb\" target=\"_parent\"><img src=\"https://colab.research.google.com/assets/colab-badge.svg\" alt=\"Open In Colab\"/></a>"
      ]
    },
    {
      "cell_type": "markdown",
      "metadata": {
        "id": "XsEyiDMJlEPV"
      },
      "source": [
        "# Divide the large image dataset into training and testing datasets"
      ]
    },
    {
      "cell_type": "code",
      "metadata": {
        "cellView": "form",
        "id": "Y_z1E613Jlu7"
      },
      "source": [
        "#@title Creating some files for the demo classified into A B C categories\n",
        "%mkdir classes\n",
        "%cd classes\n",
        "%mkdir A B C\n",
        "!'' > A/a.jpg\n",
        "!'' > A/b.jpg\n",
        "!'' > A/c.jpg\n",
        "!'' > A/d.jpg\n",
        "!cp A/*.jpg B\n",
        "!cp A/*.jpg C\n",
        "%cd ..\n",
        "print('Ignore the \"command-not-found\" errors. Demo files are ready. You can check it on your left panel 📁')"
      ],
      "execution_count": null,
      "outputs": []
    },
    {
      "cell_type": "code",
      "metadata": {
        "id": "b2X6O71ne-bn",
        "cellView": "form"
      },
      "source": [
        "#@title Secret working in back-end\n",
        "import shutil\n",
        "import os\n",
        "import numpy as np\n",
        "\n",
        "def get_files_from_folder(path):\n",
        "\n",
        "    files = os.listdir(path)\n",
        "    return np.asarray(files)\n",
        "    \n",
        "def divide(path_to_data, path_to_test_data, train_ratio):\n",
        "    # get dirs\n",
        "    _, dirs, _ = next(os.walk(path_to_data))\n",
        "\n",
        "    # calculates how many train data per class\n",
        "    data_counter_per_class = np.zeros((len(dirs)))\n",
        "    for i in range(len(dirs)):\n",
        "        path = os.path.join(path_to_data, dirs[i])\n",
        "        files = get_files_from_folder(path)\n",
        "        data_counter_per_class[i] = len(files)\n",
        "    test_counter = np.round(data_counter_per_class * (1 - train_ratio))\n",
        "\n",
        "    # transfers files\n",
        "    for i in range(len(dirs)):\n",
        "        path_to_original = os.path.join(path_to_data, dirs[i])\n",
        "        path_to_save = os.path.join(path_to_test_data, dirs[i])\n",
        "\n",
        "        #creates dir\n",
        "        if not os.path.exists(path_to_save):\n",
        "            os.makedirs(path_to_save)\n",
        "        files = get_files_from_folder(path_to_original)\n",
        "        # moves data\n",
        "        for j in range(int(test_counter[i])):\n",
        "            dst = os.path.join(path_to_save, files[j])\n",
        "            src = os.path.join(path_to_original, files[j])\n",
        "            shutil.move(src, dst)"
      ],
      "execution_count": null,
      "outputs": []
    },
    {
      "cell_type": "code",
      "metadata": {
        "id": "NBfIs7prfKBn",
        "cellView": "form"
      },
      "source": [
        "#@title Call me\n",
        "%mkdir training\n",
        "divide('classes','training',0.5)\n",
        "print('Done!!🥂\\nYou can check in the left panel...\\n->\"training\" folder: Classified data for training\\n->\"classes\" folder: The remaining data or you can say testing dataset')"
      ],
      "execution_count": null,
      "outputs": []
    },
    {
      "cell_type": "code",
      "metadata": {
        "id": "qSG1S7Q7lrVf",
        "cellView": "form"
      },
      "source": [
        "#@title To clear demo data. Uncomment at your own risk.\n",
        "# !rm -rf classes training"
      ],
      "execution_count": null,
      "outputs": []
    }
  ]
}