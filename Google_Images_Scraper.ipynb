{
  "nbformat": 4,
  "nbformat_minor": 0,
  "metadata": {
    "kernelspec": {
      "display_name": "Python 3",
      "language": "python",
      "name": "python3"
    },
    "language_info": {
      "codemirror_mode": {
        "name": "ipython",
        "version": 3
      },
      "file_extension": ".py",
      "mimetype": "text/x-python",
      "name": "python",
      "nbconvert_exporter": "python",
      "pygments_lexer": "ipython3",
      "version": "3.8.3"
    },
    "colab": {
      "name": "Google_Images_Scraper.ipynb",
      "provenance": [],
      "include_colab_link": true
    }
  },
  "cells": [
    {
      "cell_type": "markdown",
      "metadata": {
        "id": "view-in-github",
        "colab_type": "text"
      },
      "source": [
        "<a href=\"https://colab.research.google.com/github/vasugamdha/random-colab-notebooks/blob/main/Google_Images_Scraper.ipynb\" target=\"_parent\"><img src=\"https://colab.research.google.com/assets/colab-badge.svg\" alt=\"Open In Colab\"/></a>"
      ]
    },
    {
      "cell_type": "markdown",
      "metadata": {
        "id": "nm6n-LoFj3-j"
      },
      "source": [
        "# **Web Scrapping Google Images for using selenium**\n"
      ]
    },
    {
      "cell_type": "markdown",
      "metadata": {
        "id": "7G1aBR6Eu-vu"
      },
      "source": [
        "## Installing selenium and downloading chromedriver"
      ]
    },
    {
      "cell_type": "code",
      "metadata": {
        "id": "llQR93zpj53Q",
        "colab": {
          "base_uri": "https://localhost:8080/"
        },
        "outputId": "b4d03323-5483-4125-c6b0-09e1dd3a3b15"
      },
      "source": [
        "!pip install selenium\n",
        "# !apt-get update # to update ubuntu to correctly run apt install\n",
        "!apt install chromium-chromedriver\n",
        "# !cp /usr/lib/chromium-browser/chromedriver /usr/bin"
      ],
      "execution_count": 15,
      "outputs": [
        {
          "output_type": "stream",
          "text": [
            "Requirement already satisfied: selenium in /usr/local/lib/python3.7/dist-packages (3.141.0)\n",
            "Requirement already satisfied: urllib3 in /usr/local/lib/python3.7/dist-packages (from selenium) (1.24.3)\n",
            "Reading package lists... Done\n",
            "Building dependency tree       \n",
            "Reading state information... Done\n",
            "chromium-chromedriver is already the newest version (87.0.4280.66-0ubuntu0.18.04.1).\n",
            "0 upgraded, 0 newly installed, 0 to remove and 29 not upgraded.\n"
          ],
          "name": "stdout"
        }
      ]
    },
    {
      "cell_type": "markdown",
      "metadata": {
        "id": "P1SoYObv6Sc4"
      },
      "source": [
        "## Adding path to system"
      ]
    },
    {
      "cell_type": "code",
      "metadata": {
        "id": "4-9qqKJsmuD3"
      },
      "source": [
        "import sys\r\n",
        "sys.path.insert(0,'/usr/lib/chromium-browser/chromedriver')\r\n",
        "DRIVER_PATH = \"/usr/bin/chromedriver\""
      ],
      "execution_count": 16,
      "outputs": []
    },
    {
      "cell_type": "markdown",
      "metadata": {
        "id": "N_Sjivfm6qwh"
      },
      "source": [
        "## Configuring options for resolving **`WebDriverException:`** i.e.\r\n",
        "\r\n",
        "Message: unknown error: Chrome failed to start: exited abnormally.  \r\n",
        "(unknown error: DevToolsActivePort file doesn't exist)  \r\n",
        "(The process started from chrome location /usr/bin/chromium-browser is no longer running, so ChromeDriver is assuming that Chrome has crashed.)"
      ]
    },
    {
      "cell_type": "code",
      "metadata": {
        "id": "tWwC4i2cnFRI"
      },
      "source": [
        "from selenium import webdriver\r\n",
        "chrome_options = webdriver.ChromeOptions()\r\n",
        "chrome_options.add_argument('--headless')\r\n",
        "chrome_options.add_argument('--no-sandbox')\r\n",
        "chrome_options.add_argument('--disable-dev-shm-usage')\r\n",
        "wd = webdriver.Chrome('chromedriver',options=chrome_options)\r\n",
        "wd.get(\"https://www.webite-url.com\")"
      ],
      "execution_count": 17,
      "outputs": []
    },
    {
      "cell_type": "markdown",
      "metadata": {
        "id": "h_JtmTco_LvS"
      },
      "source": [
        "<font color='red' size=4>Note:</font>  \r\n",
        "If you want to fetch lots of images (50+), then search for `scroll_to_end` in the below cell and uncomment the <u>definition</u> & <u>calling</u> line of function. "
      ]
    },
    {
      "cell_type": "code",
      "metadata": {
        "id": "0s8TCCxAj3-z"
      },
      "source": [
        "def get_image_urls(query:str, max_links_to_fetch:int, wd:webdriver, sleep_between_interactions:int=1):\n",
        "    \n",
        "    # def scroll_to_end(wd):\n",
        "    #     wd.execute_script(\"window.scrollTo(0, document.body.scrollHeight);\")\n",
        "    #     time.sleep(sleep_between_interactions)    \n",
        "    \n",
        "    search_url = \"https://www.google.com/search?q={q}&tbm=isch\" # build the google query\n",
        "    \n",
        "    wd.get(search_url.format(q=query))                          # get the page\n",
        "\n",
        "    image_urls = set()\n",
        "    image_count = 0\n",
        "    results_start = 0\n",
        "    while image_count < max_links_to_fetch:\n",
        "        \n",
        "        # scroll_to_end(wd)                                     # <---- uncomment if needed\n",
        "\n",
        "        # get all image thumbnail results\n",
        "        thumbnail_results = wd.find_elements_by_css_selector(\"img.Q4LuWd\")\n",
        "        number_results = len(thumbnail_results)\n",
        "        \n",
        "        print(f\"Found: {number_results} search results. Extracting links from {results_start}:{number_results}\")\n",
        "        \n",
        "        for img in thumbnail_results[results_start:number_results]:\n",
        "            # try to click every thumbnail such that we can get the real image behind it\n",
        "            try:\n",
        "                img.click()\n",
        "                time.sleep(sleep_between_interactions)\n",
        "            except Exception:\n",
        "                continue\n",
        "\n",
        "            # extract image urls    \n",
        "            actual_images = wd.find_elements_by_css_selector('img.n3VNCb')\n",
        "            for actual_image in actual_images:\n",
        "                if actual_image.get_attribute('src') and 'http' in actual_image.get_attribute('src'):\n",
        "                    image_urls.add(actual_image.get_attribute('src'))\n",
        "\n",
        "            image_count = len(image_urls)\n",
        "\n",
        "            if len(image_urls) >= max_links_to_fetch:\n",
        "                print(f\"Found: {len(image_urls)} image links, done!\")\n",
        "                break\n",
        "        else:\n",
        "            print(\"Found:\", len(image_urls), \"image links, looking for more ...\")\n",
        "            time.sleep(30)\n",
        "            return\n",
        "            load_more_button = wd.find_element_by_css_selector(\".mye4qd\")\n",
        "            if load_more_button:\n",
        "                wd.execute_script(\"document.querySelector('.mye4qd').click();\")\n",
        "\n",
        "        # move the result startpoint further down\n",
        "        results_start = len(thumbnail_results)\n",
        "\n",
        "    return image_urls"
      ],
      "execution_count": 18,
      "outputs": []
    },
    {
      "cell_type": "code",
      "metadata": {
        "id": "1lteS36nj3-0"
      },
      "source": [
        "def save_image(folder_path:str,url:str):\n",
        "    try:\n",
        "        image_content = requests.get(url).content\n",
        "    except Exception as e:\n",
        "        print(\"ERROR - Could not download\", url,\"-\",e)\n",
        "\n",
        "    try:\n",
        "        image_file = io.BytesIO(image_content)\n",
        "        image = Image.open(image_file).convert('RGB')\n",
        "        file_path = os.path.join(folder_path,hashlib.sha1(image_content).hexdigest()[:10] + '.jpg')\n",
        "        with open(file_path, 'wb') as f:\n",
        "            image.save(f, \"JPEG\", quality=85)\n",
        "        print(f\"SUCCESS - saved {url} - as {file_path}\")\n",
        "    except Exception as e:\n",
        "        print(\"ERROR - Could not save\", url,\"-\",e)\n",
        "    "
      ],
      "execution_count": 19,
      "outputs": []
    },
    {
      "cell_type": "code",
      "metadata": {
        "id": "xQvgski-j3-1"
      },
      "source": [
        "def search_n_save(search_term:str,driver_path:str,target_path='/content',number_images=5):\n",
        "    target_folder = os.path.join(target_path,'_'.join(search_term.lower().split(' ')))\n",
        "\n",
        "    if not os.path.exists(target_folder):\n",
        "        os.makedirs(target_folder)\n",
        "\n",
        "    with webdriver.Chrome(options=chrome_options,executable_path=driver_path) as wd:\n",
        "        res = get_image_urls(search_term, number_images, wd=wd, sleep_between_interactions=0.5)\n",
        "        \n",
        "    for elem in res:\n",
        "        save_image(target_folder,elem)"
      ],
      "execution_count": 20,
      "outputs": []
    },
    {
      "cell_type": "markdown",
      "metadata": {
        "id": "a2JLPo349qPt"
      },
      "source": [
        "## Variables you can manipulate\r\n",
        "\r\n",
        "1. set search_term to an array of strings for which you want images\r\n",
        "2. set number_images to the number of images you want for each class\r\n",
        "3. set target_path to the path where you want images dataset created."
      ]
    },
    {
      "cell_type": "code",
      "metadata": {
        "id": "aG3Eajedj3-x"
      },
      "source": [
        "search_term = [\"Tesla\",\"Elon Musk\"]\n",
        "number_images = 5\n",
        "target_path = '/content'"
      ],
      "execution_count": 21,
      "outputs": []
    },
    {
      "cell_type": "code",
      "metadata": {
        "id": "RwLSk1xvj3-2",
        "colab": {
          "base_uri": "https://localhost:8080/"
        },
        "outputId": "d4018c8a-fcc5-4025-8ac7-77b055c2eada"
      },
      "source": [
        "import os \n",
        "import time\n",
        "import requests\n",
        "import io\n",
        "from PIL import Image\n",
        "import hashlib\n",
        "\n",
        "for i in search_term:\n",
        "    search_n_save(search_term = i, driver_path=DRIVER_PATH, target_path=target_path, number_images=number_images)"
      ],
      "execution_count": 22,
      "outputs": [
        {
          "output_type": "stream",
          "text": [
            "Found: 48 search results. Extracting links from 0:48\n",
            "Found: 5 image links, done!\n",
            "SUCCESS - saved https://cnet1.cbsistatic.com/img/6u2kmEm0RJUfcSgupFaBkEsKeK4=/940x0/2020/02/13/ae1b9b28-ac0f-4b16-90c7-1f232b6633e4/press00-model-x-rear-three-quarter-with-doors-open.jpg - as /content/tesla/f24f70e79e.jpg\n",
            "SUCCESS - saved https://hips.hearstapps.com/hmg-prod/amv-prod-cad-assets/wp-content/uploads/2017/11/Tesla-Roadster-103.jpg?crop=0.779xw:0.950xh;0.141xw,0.0499xh&resize=640:* - as /content/tesla/ca3323f563.jpg\n",
            "SUCCESS - saved https://tesla-cdn.thron.com/delivery/public/image/tesla/32e5e0f3-5c04-42ef-8f8f-c6b1c26f8a9e/bvlatuR/std/2880x1800/ms-main-hero-desktop - as /content/tesla/0d984c8f95.jpg\n",
            "SUCCESS - saved https://tesla-cdn.thron.com/delivery/public/image/tesla/c82315a6-ac99-464a-a753-c26bc0fb647d/bvlatuR/std/1200x628/lhd-model-3-social - as /content/tesla/7b96c89c6a.jpg\n",
            "SUCCESS - saved https://cdn.motor1.com/images/mgl/Yp07j/s1/tesla-pricing-lead.jpg - as /content/tesla/73a3296ae4.jpg\n",
            "Found: 49 search results. Extracting links from 0:49\n",
            "Found: 5 image links, done!\n",
            "SUCCESS - saved https://cdn.vox-cdn.com/thumbor/nDW7YqKV8soKsZSfRorGXJLSH50=/1400x1400/filters:format(jpeg)/cdn.vox-cdn.com/uploads/chorus_asset/file/22147179/1229892934.jpg - as /content/elon_musk/40e8ae70cb.jpg\n",
            "SUCCESS - saved https://i.insider.com/5f724a1874fe5b0018a8dd86?width=1136&format=jpeg - as /content/elon_musk/5dd43fac86.jpg\n",
            "SUCCESS - saved https://i.gadgets360cdn.com/large/elon_musk_reuters_1610084738222.jpg - as /content/elon_musk/98a79b4e02.jpg\n",
            "SUCCESS - saved https://static.theceomagazine.net/wp-content/uploads/2018/10/15093202/elon-musk.jpg - as /content/elon_musk/7fe576760a.jpg\n",
            "SUCCESS - saved https://cdn.cnn.com/cnnnext/dam/assets/210210125538-01-elon-musk-1201-super-tease.jpg - as /content/elon_musk/d44e4bd792.jpg\n"
          ],
          "name": "stdout"
        }
      ]
    }
  ]
}